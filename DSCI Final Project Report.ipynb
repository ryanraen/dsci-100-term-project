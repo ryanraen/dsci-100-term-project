{
 "cells": [
  {
   "cell_type": "markdown",
   "id": "91ee7e6f",
   "metadata": {},
   "source": [
    "# Predicting Newsletter Subscription Based on Session Behavior in Video Game Players"
   ]
  },
  {
   "cell_type": "markdown",
   "id": "9e93358d",
   "metadata": {},
   "source": [
    "## *DSCI 100 - Final Project Report*"
   ]
  },
  {
   "cell_type": "markdown",
   "id": "f3e46a83",
   "metadata": {},
   "source": [
    "**Author:** Delia Zhang, Ryan Xie, Rachel McDonald, Oj Singh Dhillon   \n",
    "**Date:** Fri, Apr 4th "
   ]
  },
  {
   "cell_type": "code",
   "execution_count": 10,
   "id": "525af4de-ab68-419e-9498-40112af4758d",
   "metadata": {},
   "outputs": [],
   "source": [
    "# Run this cell before continuing\n",
    "library(tidyverse)"
   ]
  },
  {
   "cell_type": "markdown",
   "id": "5faf5567",
   "metadata": {},
   "source": [
    "## Introduction\n",
    "\n",
    "In the world of digital gaming, understanding what drives player engagement is essential for both game development and targeted communication strategies. One specific area of interest is the relationship between player behavior and subscription to game-related newsletters. Newsletters often serve as a marketing tool, allowing companies to inform players about new features, events, and updates. Understanding who is more likely to subscribe to these newsletters could help tailor marketing efforts and foster stronger community engagement.\n",
    "\n",
    "### Research Question\n",
    "\n",
    "**Can session length and frequency predict whether a player subscribes to the newsletter?**\n",
    "\n",
    "We investigate this question using a dataset from a video game research server, containing player demographics and session activity logs. Specifically, we test the hypothesis that players who engage more frequently and for longer durations are more likely to subscribe to the game's newsletter."
   ]
  },
  {
   "cell_type": "code",
   "execution_count": 11,
   "id": "8539f39d-3041-4857-be53-94f5f4909256",
   "metadata": {},
   "outputs": [
    {
     "data": {
      "text/html": [
       "<table class=\"dataframe\">\n",
       "<caption>A data.frame: 6 × 7</caption>\n",
       "<thead>\n",
       "\t<tr><th></th><th scope=col>experience</th><th scope=col>subscribe</th><th scope=col>hashedEmail</th><th scope=col>played_hours</th><th scope=col>name</th><th scope=col>gender</th><th scope=col>Age</th></tr>\n",
       "\t<tr><th></th><th scope=col>&lt;chr&gt;</th><th scope=col>&lt;lgl&gt;</th><th scope=col>&lt;chr&gt;</th><th scope=col>&lt;dbl&gt;</th><th scope=col>&lt;chr&gt;</th><th scope=col>&lt;chr&gt;</th><th scope=col>&lt;int&gt;</th></tr>\n",
       "</thead>\n",
       "<tbody>\n",
       "\t<tr><th scope=row>1</th><td>Pro    </td><td> TRUE</td><td>f6daba428a5e19a3d47574858c13550499be23603422e6a0ee9728f8b53e192d</td><td>30.3</td><td>Morgan   </td><td>Male  </td><td> 9</td></tr>\n",
       "\t<tr><th scope=row>2</th><td>Veteran</td><td> TRUE</td><td>f3c813577c458ba0dfef80996f8f32c93b6e8af1fa939732842f2312358a88e9</td><td> 3.8</td><td>Christian</td><td>Male  </td><td>17</td></tr>\n",
       "\t<tr><th scope=row>3</th><td>Veteran</td><td>FALSE</td><td>b674dd7ee0d24096d1c019615ce4d12b20fcbff12d79d3c5a9d2118eb7ccbb28</td><td> 0.0</td><td>Blake    </td><td>Male  </td><td>17</td></tr>\n",
       "\t<tr><th scope=row>4</th><td>Amateur</td><td> TRUE</td><td>23fe711e0e3b77f1da7aa221ab1192afe21648d47d2b4fa7a5a659ff443a0eb5</td><td> 0.7</td><td>Flora    </td><td>Female</td><td>21</td></tr>\n",
       "\t<tr><th scope=row>5</th><td>Regular</td><td> TRUE</td><td>7dc01f10bf20671ecfccdac23812b1b415acd42c2147cb0af4d48fcce2420f3e</td><td> 0.1</td><td>Kylie    </td><td>Male  </td><td>21</td></tr>\n",
       "\t<tr><th scope=row>6</th><td>Amateur</td><td> TRUE</td><td>f58aad5996a435f16b0284a3b267f973f9af99e7a89bee0430055a44fa92f977</td><td> 0.0</td><td>Adrian   </td><td>Female</td><td>17</td></tr>\n",
       "</tbody>\n",
       "</table>\n"
      ],
      "text/latex": [
       "A data.frame: 6 × 7\n",
       "\\begin{tabular}{r|lllllll}\n",
       "  & experience & subscribe & hashedEmail & played\\_hours & name & gender & Age\\\\\n",
       "  & <chr> & <lgl> & <chr> & <dbl> & <chr> & <chr> & <int>\\\\\n",
       "\\hline\n",
       "\t1 & Pro     &  TRUE & f6daba428a5e19a3d47574858c13550499be23603422e6a0ee9728f8b53e192d & 30.3 & Morgan    & Male   &  9\\\\\n",
       "\t2 & Veteran &  TRUE & f3c813577c458ba0dfef80996f8f32c93b6e8af1fa939732842f2312358a88e9 &  3.8 & Christian & Male   & 17\\\\\n",
       "\t3 & Veteran & FALSE & b674dd7ee0d24096d1c019615ce4d12b20fcbff12d79d3c5a9d2118eb7ccbb28 &  0.0 & Blake     & Male   & 17\\\\\n",
       "\t4 & Amateur &  TRUE & 23fe711e0e3b77f1da7aa221ab1192afe21648d47d2b4fa7a5a659ff443a0eb5 &  0.7 & Flora     & Female & 21\\\\\n",
       "\t5 & Regular &  TRUE & 7dc01f10bf20671ecfccdac23812b1b415acd42c2147cb0af4d48fcce2420f3e &  0.1 & Kylie     & Male   & 21\\\\\n",
       "\t6 & Amateur &  TRUE & f58aad5996a435f16b0284a3b267f973f9af99e7a89bee0430055a44fa92f977 &  0.0 & Adrian    & Female & 17\\\\\n",
       "\\end{tabular}\n"
      ],
      "text/markdown": [
       "\n",
       "A data.frame: 6 × 7\n",
       "\n",
       "| <!--/--> | experience &lt;chr&gt; | subscribe &lt;lgl&gt; | hashedEmail &lt;chr&gt; | played_hours &lt;dbl&gt; | name &lt;chr&gt; | gender &lt;chr&gt; | Age &lt;int&gt; |\n",
       "|---|---|---|---|---|---|---|---|\n",
       "| 1 | Pro     |  TRUE | f6daba428a5e19a3d47574858c13550499be23603422e6a0ee9728f8b53e192d | 30.3 | Morgan    | Male   |  9 |\n",
       "| 2 | Veteran |  TRUE | f3c813577c458ba0dfef80996f8f32c93b6e8af1fa939732842f2312358a88e9 |  3.8 | Christian | Male   | 17 |\n",
       "| 3 | Veteran | FALSE | b674dd7ee0d24096d1c019615ce4d12b20fcbff12d79d3c5a9d2118eb7ccbb28 |  0.0 | Blake     | Male   | 17 |\n",
       "| 4 | Amateur |  TRUE | 23fe711e0e3b77f1da7aa221ab1192afe21648d47d2b4fa7a5a659ff443a0eb5 |  0.7 | Flora     | Female | 21 |\n",
       "| 5 | Regular |  TRUE | 7dc01f10bf20671ecfccdac23812b1b415acd42c2147cb0af4d48fcce2420f3e |  0.1 | Kylie     | Male   | 21 |\n",
       "| 6 | Amateur |  TRUE | f58aad5996a435f16b0284a3b267f973f9af99e7a89bee0430055a44fa92f977 |  0.0 | Adrian    | Female | 17 |\n",
       "\n"
      ],
      "text/plain": [
       "  experience subscribe\n",
       "1 Pro         TRUE    \n",
       "2 Veteran     TRUE    \n",
       "3 Veteran    FALSE    \n",
       "4 Amateur     TRUE    \n",
       "5 Regular     TRUE    \n",
       "6 Amateur     TRUE    \n",
       "  hashedEmail                                                      played_hours\n",
       "1 f6daba428a5e19a3d47574858c13550499be23603422e6a0ee9728f8b53e192d 30.3        \n",
       "2 f3c813577c458ba0dfef80996f8f32c93b6e8af1fa939732842f2312358a88e9  3.8        \n",
       "3 b674dd7ee0d24096d1c019615ce4d12b20fcbff12d79d3c5a9d2118eb7ccbb28  0.0        \n",
       "4 23fe711e0e3b77f1da7aa221ab1192afe21648d47d2b4fa7a5a659ff443a0eb5  0.7        \n",
       "5 7dc01f10bf20671ecfccdac23812b1b415acd42c2147cb0af4d48fcce2420f3e  0.1        \n",
       "6 f58aad5996a435f16b0284a3b267f973f9af99e7a89bee0430055a44fa92f977  0.0        \n",
       "  name      gender Age\n",
       "1 Morgan    Male    9 \n",
       "2 Christian Male   17 \n",
       "3 Blake     Male   17 \n",
       "4 Flora     Female 21 \n",
       "5 Kylie     Male   21 \n",
       "6 Adrian    Female 17 "
      ]
     },
     "metadata": {},
     "output_type": "display_data"
    },
    {
     "data": {
      "text/html": [
       "<table class=\"dataframe\">\n",
       "<caption>A data.frame: 6 × 5</caption>\n",
       "<thead>\n",
       "\t<tr><th></th><th scope=col>hashedEmail</th><th scope=col>start_time</th><th scope=col>end_time</th><th scope=col>original_start_time</th><th scope=col>original_end_time</th></tr>\n",
       "\t<tr><th></th><th scope=col>&lt;chr&gt;</th><th scope=col>&lt;chr&gt;</th><th scope=col>&lt;chr&gt;</th><th scope=col>&lt;dbl&gt;</th><th scope=col>&lt;dbl&gt;</th></tr>\n",
       "</thead>\n",
       "<tbody>\n",
       "\t<tr><th scope=row>1</th><td>bfce39c89d6549f2bb94d8064d3ce69dc3d7e72b38f431d8aa0c4bf95ccee6bf</td><td>30/06/2024 18:12</td><td>30/06/2024 18:24</td><td>1.71977e+12</td><td>1.71977e+12</td></tr>\n",
       "\t<tr><th scope=row>2</th><td>36d9cbb4c6bc0c1a6911436d2da0d09ec625e43e6552f575d4acc9cf487c4686</td><td>17/06/2024 23:33</td><td>17/06/2024 23:46</td><td>1.71867e+12</td><td>1.71867e+12</td></tr>\n",
       "\t<tr><th scope=row>3</th><td>f8f5477f5a2e53616ae37421b1c660b971192bd8ff77e3398304c7ae42581fdc</td><td>25/07/2024 17:34</td><td>25/07/2024 17:57</td><td>1.72193e+12</td><td>1.72193e+12</td></tr>\n",
       "\t<tr><th scope=row>4</th><td>bfce39c89d6549f2bb94d8064d3ce69dc3d7e72b38f431d8aa0c4bf95ccee6bf</td><td>25/07/2024 03:22</td><td>25/07/2024 03:58</td><td>1.72188e+12</td><td>1.72188e+12</td></tr>\n",
       "\t<tr><th scope=row>5</th><td>36d9cbb4c6bc0c1a6911436d2da0d09ec625e43e6552f575d4acc9cf487c4686</td><td>25/05/2024 16:01</td><td>25/05/2024 16:12</td><td>1.71665e+12</td><td>1.71665e+12</td></tr>\n",
       "\t<tr><th scope=row>6</th><td>bfce39c89d6549f2bb94d8064d3ce69dc3d7e72b38f431d8aa0c4bf95ccee6bf</td><td>23/06/2024 15:08</td><td>23/06/2024 17:10</td><td>1.71916e+12</td><td>1.71916e+12</td></tr>\n",
       "</tbody>\n",
       "</table>\n"
      ],
      "text/latex": [
       "A data.frame: 6 × 5\n",
       "\\begin{tabular}{r|lllll}\n",
       "  & hashedEmail & start\\_time & end\\_time & original\\_start\\_time & original\\_end\\_time\\\\\n",
       "  & <chr> & <chr> & <chr> & <dbl> & <dbl>\\\\\n",
       "\\hline\n",
       "\t1 & bfce39c89d6549f2bb94d8064d3ce69dc3d7e72b38f431d8aa0c4bf95ccee6bf & 30/06/2024 18:12 & 30/06/2024 18:24 & 1.71977e+12 & 1.71977e+12\\\\\n",
       "\t2 & 36d9cbb4c6bc0c1a6911436d2da0d09ec625e43e6552f575d4acc9cf487c4686 & 17/06/2024 23:33 & 17/06/2024 23:46 & 1.71867e+12 & 1.71867e+12\\\\\n",
       "\t3 & f8f5477f5a2e53616ae37421b1c660b971192bd8ff77e3398304c7ae42581fdc & 25/07/2024 17:34 & 25/07/2024 17:57 & 1.72193e+12 & 1.72193e+12\\\\\n",
       "\t4 & bfce39c89d6549f2bb94d8064d3ce69dc3d7e72b38f431d8aa0c4bf95ccee6bf & 25/07/2024 03:22 & 25/07/2024 03:58 & 1.72188e+12 & 1.72188e+12\\\\\n",
       "\t5 & 36d9cbb4c6bc0c1a6911436d2da0d09ec625e43e6552f575d4acc9cf487c4686 & 25/05/2024 16:01 & 25/05/2024 16:12 & 1.71665e+12 & 1.71665e+12\\\\\n",
       "\t6 & bfce39c89d6549f2bb94d8064d3ce69dc3d7e72b38f431d8aa0c4bf95ccee6bf & 23/06/2024 15:08 & 23/06/2024 17:10 & 1.71916e+12 & 1.71916e+12\\\\\n",
       "\\end{tabular}\n"
      ],
      "text/markdown": [
       "\n",
       "A data.frame: 6 × 5\n",
       "\n",
       "| <!--/--> | hashedEmail &lt;chr&gt; | start_time &lt;chr&gt; | end_time &lt;chr&gt; | original_start_time &lt;dbl&gt; | original_end_time &lt;dbl&gt; |\n",
       "|---|---|---|---|---|---|\n",
       "| 1 | bfce39c89d6549f2bb94d8064d3ce69dc3d7e72b38f431d8aa0c4bf95ccee6bf | 30/06/2024 18:12 | 30/06/2024 18:24 | 1.71977e+12 | 1.71977e+12 |\n",
       "| 2 | 36d9cbb4c6bc0c1a6911436d2da0d09ec625e43e6552f575d4acc9cf487c4686 | 17/06/2024 23:33 | 17/06/2024 23:46 | 1.71867e+12 | 1.71867e+12 |\n",
       "| 3 | f8f5477f5a2e53616ae37421b1c660b971192bd8ff77e3398304c7ae42581fdc | 25/07/2024 17:34 | 25/07/2024 17:57 | 1.72193e+12 | 1.72193e+12 |\n",
       "| 4 | bfce39c89d6549f2bb94d8064d3ce69dc3d7e72b38f431d8aa0c4bf95ccee6bf | 25/07/2024 03:22 | 25/07/2024 03:58 | 1.72188e+12 | 1.72188e+12 |\n",
       "| 5 | 36d9cbb4c6bc0c1a6911436d2da0d09ec625e43e6552f575d4acc9cf487c4686 | 25/05/2024 16:01 | 25/05/2024 16:12 | 1.71665e+12 | 1.71665e+12 |\n",
       "| 6 | bfce39c89d6549f2bb94d8064d3ce69dc3d7e72b38f431d8aa0c4bf95ccee6bf | 23/06/2024 15:08 | 23/06/2024 17:10 | 1.71916e+12 | 1.71916e+12 |\n",
       "\n"
      ],
      "text/plain": [
       "  hashedEmail                                                     \n",
       "1 bfce39c89d6549f2bb94d8064d3ce69dc3d7e72b38f431d8aa0c4bf95ccee6bf\n",
       "2 36d9cbb4c6bc0c1a6911436d2da0d09ec625e43e6552f575d4acc9cf487c4686\n",
       "3 f8f5477f5a2e53616ae37421b1c660b971192bd8ff77e3398304c7ae42581fdc\n",
       "4 bfce39c89d6549f2bb94d8064d3ce69dc3d7e72b38f431d8aa0c4bf95ccee6bf\n",
       "5 36d9cbb4c6bc0c1a6911436d2da0d09ec625e43e6552f575d4acc9cf487c4686\n",
       "6 bfce39c89d6549f2bb94d8064d3ce69dc3d7e72b38f431d8aa0c4bf95ccee6bf\n",
       "  start_time       end_time         original_start_time original_end_time\n",
       "1 30/06/2024 18:12 30/06/2024 18:24 1.71977e+12         1.71977e+12      \n",
       "2 17/06/2024 23:33 17/06/2024 23:46 1.71867e+12         1.71867e+12      \n",
       "3 25/07/2024 17:34 25/07/2024 17:57 1.72193e+12         1.72193e+12      \n",
       "4 25/07/2024 03:22 25/07/2024 03:58 1.72188e+12         1.72188e+12      \n",
       "5 25/05/2024 16:01 25/05/2024 16:12 1.71665e+12         1.71665e+12      \n",
       "6 23/06/2024 15:08 23/06/2024 17:10 1.71916e+12         1.71916e+12      "
      ]
     },
     "metadata": {},
     "output_type": "display_data"
    }
   ],
   "source": [
    "# Load datasets\n",
    "players <- read.csv(\"https://raw.githubusercontent.com/ryanraen/dsci-100-term-project/refs/heads/main/data/players.csv\")\n",
    "sessions <- read.csv(\"https://raw.githubusercontent.com/ryanraen/dsci-100-term-project/refs/heads/main/data/sessions.csv\")\n",
    "\n",
    "# View first 6 rows of datasets\n",
    "head(players)\n",
    "head(sessions)"
   ]
  },
  {
   "cell_type": "markdown",
   "id": "7d32e925-e124-41c6-b647-7c29a2ff6092",
   "metadata": {},
   "source": [
    "### Dataset Description\n",
    "\n",
    "The data is composed of two primary CSV files:\n",
    "- **players.csv**: Contains demographic and game engagement data for 196 individuals. Variables include:\n",
    "  - `experience`: Player's self-rated experience level (e.g., Pro, Veteran, Amateur)\n",
    "  - `subscribe`: Boolean indicator of newsletter subscription\n",
    "  - `hashedEmail`: An anonymized player identifier\n",
    "  - `played_hours`: Total hours the player has spent in-game\n",
    "  - `name`: Player’s given name\n",
    "  - `gender`: Gender identity\n",
    "  - `Age`: Age in years\n",
    "\n",
    "- **sessions.csv**: Contains 1,535 individual game session logs, with the following variables:\n",
    "  - `hashedEmail`: The same anonymized player identifier as in `players.csv`\n",
    "  - `start_time`, `end_time`: Session timestamps (character format)\n",
    "  - `original_start_time`, `original_end_time`: Session timestamps in UNIX format"
   ]
  },
  {
   "cell_type": "code",
   "execution_count": 17,
   "id": "112fd41f-c823-4939-800e-311ea1611288",
   "metadata": {},
   "outputs": [
    {
     "data": {
      "text/html": [
       "<table class=\"dataframe\">\n",
       "<caption>A data.frame: 7 × 2</caption>\n",
       "<thead>\n",
       "\t<tr><th></th><th scope=col>variable</th><th scope=col>data_type</th></tr>\n",
       "\t<tr><th></th><th scope=col>&lt;chr&gt;</th><th scope=col>&lt;chr&gt;</th></tr>\n",
       "</thead>\n",
       "<tbody>\n",
       "\t<tr><th scope=row>experience</th><td>experience  </td><td>character</td></tr>\n",
       "\t<tr><th scope=row>subscribe</th><td>subscribe   </td><td>logical  </td></tr>\n",
       "\t<tr><th scope=row>hashedEmail</th><td>hashedEmail </td><td>character</td></tr>\n",
       "\t<tr><th scope=row>played_hours</th><td>played_hours</td><td>numeric  </td></tr>\n",
       "\t<tr><th scope=row>name</th><td>name        </td><td>character</td></tr>\n",
       "\t<tr><th scope=row>gender</th><td>gender      </td><td>character</td></tr>\n",
       "\t<tr><th scope=row>Age</th><td>Age         </td><td>integer  </td></tr>\n",
       "</tbody>\n",
       "</table>\n"
      ],
      "text/latex": [
       "A data.frame: 7 × 2\n",
       "\\begin{tabular}{r|ll}\n",
       "  & variable & data\\_type\\\\\n",
       "  & <chr> & <chr>\\\\\n",
       "\\hline\n",
       "\texperience & experience   & character\\\\\n",
       "\tsubscribe & subscribe    & logical  \\\\\n",
       "\thashedEmail & hashedEmail  & character\\\\\n",
       "\tplayed\\_hours & played\\_hours & numeric  \\\\\n",
       "\tname & name         & character\\\\\n",
       "\tgender & gender       & character\\\\\n",
       "\tAge & Age          & integer  \\\\\n",
       "\\end{tabular}\n"
      ],
      "text/markdown": [
       "\n",
       "A data.frame: 7 × 2\n",
       "\n",
       "| <!--/--> | variable &lt;chr&gt; | data_type &lt;chr&gt; |\n",
       "|---|---|---|\n",
       "| experience | experience   | character |\n",
       "| subscribe | subscribe    | logical   |\n",
       "| hashedEmail | hashedEmail  | character |\n",
       "| played_hours | played_hours | numeric   |\n",
       "| name | name         | character |\n",
       "| gender | gender       | character |\n",
       "| Age | Age          | integer   |\n",
       "\n"
      ],
      "text/plain": [
       "             variable     data_type\n",
       "experience   experience   character\n",
       "subscribe    subscribe    logical  \n",
       "hashedEmail  hashedEmail  character\n",
       "played_hours played_hours numeric  \n",
       "name         name         character\n",
       "gender       gender       character\n",
       "Age          Age          integer  "
      ]
     },
     "metadata": {},
     "output_type": "display_data"
    },
    {
     "data": {
      "text/html": [
       "<table class=\"dataframe\">\n",
       "<caption>A data.frame: 5 × 2</caption>\n",
       "<thead>\n",
       "\t<tr><th></th><th scope=col>variable</th><th scope=col>data_type</th></tr>\n",
       "\t<tr><th></th><th scope=col>&lt;chr&gt;</th><th scope=col>&lt;chr&gt;</th></tr>\n",
       "</thead>\n",
       "<tbody>\n",
       "\t<tr><th scope=row>hashedEmail</th><td>hashedEmail        </td><td>character</td></tr>\n",
       "\t<tr><th scope=row>start_time</th><td>start_time         </td><td>character</td></tr>\n",
       "\t<tr><th scope=row>end_time</th><td>end_time           </td><td>character</td></tr>\n",
       "\t<tr><th scope=row>original_start_time</th><td>original_start_time</td><td>numeric  </td></tr>\n",
       "\t<tr><th scope=row>original_end_time</th><td>original_end_time  </td><td>numeric  </td></tr>\n",
       "</tbody>\n",
       "</table>\n"
      ],
      "text/latex": [
       "A data.frame: 5 × 2\n",
       "\\begin{tabular}{r|ll}\n",
       "  & variable & data\\_type\\\\\n",
       "  & <chr> & <chr>\\\\\n",
       "\\hline\n",
       "\thashedEmail & hashedEmail         & character\\\\\n",
       "\tstart\\_time & start\\_time          & character\\\\\n",
       "\tend\\_time & end\\_time            & character\\\\\n",
       "\toriginal\\_start\\_time & original\\_start\\_time & numeric  \\\\\n",
       "\toriginal\\_end\\_time & original\\_end\\_time   & numeric  \\\\\n",
       "\\end{tabular}\n"
      ],
      "text/markdown": [
       "\n",
       "A data.frame: 5 × 2\n",
       "\n",
       "| <!--/--> | variable &lt;chr&gt; | data_type &lt;chr&gt; |\n",
       "|---|---|---|\n",
       "| hashedEmail | hashedEmail         | character |\n",
       "| start_time | start_time          | character |\n",
       "| end_time | end_time            | character |\n",
       "| original_start_time | original_start_time | numeric   |\n",
       "| original_end_time | original_end_time   | numeric   |\n",
       "\n"
      ],
      "text/plain": [
       "                    variable            data_type\n",
       "hashedEmail         hashedEmail         character\n",
       "start_time          start_time          character\n",
       "end_time            end_time            character\n",
       "original_start_time original_start_time numeric  \n",
       "original_end_time   original_end_time   numeric  "
      ]
     },
     "metadata": {},
     "output_type": "display_data"
    }
   ],
   "source": [
    "# Get data types for each dataset in a table format\n",
    "players_types <- data.frame(\n",
    "  variable = colnames(players),\n",
    "  data_type = map_chr(players, class))\n",
    "\n",
    "sessions_types <- data.frame(\n",
    "  variable = colnames(sessions),\n",
    "  data_type = map_chr(sessions, class))\n",
    "\n",
    "players_types\n",
    "sessions_types"
   ]
  },
  {
   "cell_type": "code",
   "execution_count": 18,
   "id": "9de8a01f-d70f-4b30-b632-3efaeaf6cf39",
   "metadata": {},
   "outputs": [
    {
     "data": {
      "text/html": [
       "<table class=\"dataframe\">\n",
       "<caption>A data.frame: 7 × 2</caption>\n",
       "<thead>\n",
       "\t<tr><th scope=col>Variable</th><th scope=col>Description</th></tr>\n",
       "\t<tr><th scope=col>&lt;chr&gt;</th><th scope=col>&lt;chr&gt;</th></tr>\n",
       "</thead>\n",
       "<tbody>\n",
       "\t<tr><td>experience  </td><td>How experienced a player is   </td></tr>\n",
       "\t<tr><td>subscribe   </td><td>Newsletter subscription status</td></tr>\n",
       "\t<tr><td>hashedEmail </td><td>Hashed email address          </td></tr>\n",
       "\t<tr><td>played_hours</td><td>Total playtime (in hours)     </td></tr>\n",
       "\t<tr><td>name        </td><td>Player name                   </td></tr>\n",
       "\t<tr><td>gender      </td><td>Player gender                 </td></tr>\n",
       "\t<tr><td>Age         </td><td>Player age                    </td></tr>\n",
       "</tbody>\n",
       "</table>\n"
      ],
      "text/latex": [
       "A data.frame: 7 × 2\n",
       "\\begin{tabular}{ll}\n",
       " Variable & Description\\\\\n",
       " <chr> & <chr>\\\\\n",
       "\\hline\n",
       "\t experience   & How experienced a player is   \\\\\n",
       "\t subscribe    & Newsletter subscription status\\\\\n",
       "\t hashedEmail  & Hashed email address          \\\\\n",
       "\t played\\_hours & Total playtime (in hours)     \\\\\n",
       "\t name         & Player name                   \\\\\n",
       "\t gender       & Player gender                 \\\\\n",
       "\t Age          & Player age                    \\\\\n",
       "\\end{tabular}\n"
      ],
      "text/markdown": [
       "\n",
       "A data.frame: 7 × 2\n",
       "\n",
       "| Variable &lt;chr&gt; | Description &lt;chr&gt; |\n",
       "|---|---|\n",
       "| experience   | How experienced a player is    |\n",
       "| subscribe    | Newsletter subscription status |\n",
       "| hashedEmail  | Hashed email address           |\n",
       "| played_hours | Total playtime (in hours)      |\n",
       "| name         | Player name                    |\n",
       "| gender       | Player gender                  |\n",
       "| Age          | Player age                     |\n",
       "\n"
      ],
      "text/plain": [
       "  Variable     Description                   \n",
       "1 experience   How experienced a player is   \n",
       "2 subscribe    Newsletter subscription status\n",
       "3 hashedEmail  Hashed email address          \n",
       "4 played_hours Total playtime (in hours)     \n",
       "5 name         Player name                   \n",
       "6 gender       Player gender                 \n",
       "7 Age          Player age                    "
      ]
     },
     "metadata": {},
     "output_type": "display_data"
    },
    {
     "data": {
      "text/html": [
       "<table class=\"dataframe\">\n",
       "<caption>A data.frame: 5 × 2</caption>\n",
       "<thead>\n",
       "\t<tr><th scope=col>Variable</th><th scope=col>Description</th></tr>\n",
       "\t<tr><th scope=col>&lt;chr&gt;</th><th scope=col>&lt;chr&gt;</th></tr>\n",
       "</thead>\n",
       "<tbody>\n",
       "\t<tr><td>hashedEmail        </td><td>Hashed email address        </td></tr>\n",
       "\t<tr><td>start_time         </td><td>Session start time          </td></tr>\n",
       "\t<tr><td>end_time           </td><td>Session end time            </td></tr>\n",
       "\t<tr><td>original_start_time</td><td>Session start time from UNIX</td></tr>\n",
       "\t<tr><td>original_end_time  </td><td>Session end time from UNIX  </td></tr>\n",
       "</tbody>\n",
       "</table>\n"
      ],
      "text/latex": [
       "A data.frame: 5 × 2\n",
       "\\begin{tabular}{ll}\n",
       " Variable & Description\\\\\n",
       " <chr> & <chr>\\\\\n",
       "\\hline\n",
       "\t hashedEmail         & Hashed email address        \\\\\n",
       "\t start\\_time          & Session start time          \\\\\n",
       "\t end\\_time            & Session end time            \\\\\n",
       "\t original\\_start\\_time & Session start time from UNIX\\\\\n",
       "\t original\\_end\\_time   & Session end time from UNIX  \\\\\n",
       "\\end{tabular}\n"
      ],
      "text/markdown": [
       "\n",
       "A data.frame: 5 × 2\n",
       "\n",
       "| Variable &lt;chr&gt; | Description &lt;chr&gt; |\n",
       "|---|---|\n",
       "| hashedEmail         | Hashed email address         |\n",
       "| start_time          | Session start time           |\n",
       "| end_time            | Session end time             |\n",
       "| original_start_time | Session start time from UNIX |\n",
       "| original_end_time   | Session end time from UNIX   |\n",
       "\n"
      ],
      "text/plain": [
       "  Variable            Description                 \n",
       "1 hashedEmail         Hashed email address        \n",
       "2 start_time          Session start time          \n",
       "3 end_time            Session end time            \n",
       "4 original_start_time Session start time from UNIX\n",
       "5 original_end_time   Session end time from UNIX  "
      ]
     },
     "metadata": {},
     "output_type": "display_data"
    }
   ],
   "source": [
    "# Creating a variable description table\n",
    "players_variables <- data.frame(\n",
    "  Variable = colnames(players),\n",
    "  Description = c(\n",
    "    \"How experienced a player is\",\n",
    "    \"Newsletter subscription status\",\n",
    "    \"Hashed email address\",\n",
    "    \"Total playtime (in hours)\",\n",
    "    \"Player name\",\n",
    "    \"Player gender\",\n",
    "    \"Player age\"))\n",
    "\n",
    "sessions_variables <- data.frame(\n",
    "  Variable = colnames(sessions),\n",
    "  Description = c(\n",
    "    \"Hashed email address\",\n",
    "    \"Session start time\",\n",
    "    \"Session end time\",\n",
    "    \"Session start time from UNIX\",\n",
    "    \"Session end time from UNIX\"))\n",
    "\n",
    "players_variables\n",
    "sessions_variables"
   ]
  },
  {
   "cell_type": "markdown",
   "id": "569347a9-4f99-43e5-aa69-5b2943c434a9",
   "metadata": {},
   "source": [
    "### Summary Statistics and Observations\n",
    "\n",
    "The `players` dataset consists of 196 entries and 7 variables. The youngest player is 8 years old, while the oldest is 50. The median age is 19, with a standard deviation of approximately 6.17 years. The dataset shows a wide range in game engagement: some players have 0 recorded playtime while the maximum is over 220 hours. The standard deviation for playtime is 28.36 hours, indicating substantial variability.\n",
    "\n",
    "The `sessions` dataset has 1,535 observations and 5 variables. Using the UNIX timestamps, we calculated summary statistics for session start and end times. The timestamps range over several months, and the standard deviation of start and end times is about 3.5 billion in UNIX units, suggesting a broad distribution of activity across time."
   ]
  },
  {
   "cell_type": "code",
   "execution_count": 12,
   "id": "1fe581a7-c89b-4dbe-95f1-f5ae8ce57cc4",
   "metadata": {},
   "outputs": [
    {
     "data": {
      "text/html": [
       "<table class=\"dataframe\">\n",
       "<caption>A data.frame: 2 × 3</caption>\n",
       "<thead>\n",
       "\t<tr><th scope=col>dataset</th><th scope=col>observations</th><th scope=col>variables</th></tr>\n",
       "\t<tr><th scope=col>&lt;chr&gt;</th><th scope=col>&lt;int&gt;</th><th scope=col>&lt;int&gt;</th></tr>\n",
       "</thead>\n",
       "<tbody>\n",
       "\t<tr><td>Players </td><td> 196</td><td>7</td></tr>\n",
       "\t<tr><td>Sessions</td><td>1535</td><td>5</td></tr>\n",
       "</tbody>\n",
       "</table>\n"
      ],
      "text/latex": [
       "A data.frame: 2 × 3\n",
       "\\begin{tabular}{lll}\n",
       " dataset & observations & variables\\\\\n",
       " <chr> & <int> & <int>\\\\\n",
       "\\hline\n",
       "\t Players  &  196 & 7\\\\\n",
       "\t Sessions & 1535 & 5\\\\\n",
       "\\end{tabular}\n"
      ],
      "text/markdown": [
       "\n",
       "A data.frame: 2 × 3\n",
       "\n",
       "| dataset &lt;chr&gt; | observations &lt;int&gt; | variables &lt;int&gt; |\n",
       "|---|---|---|\n",
       "| Players  |  196 | 7 |\n",
       "| Sessions | 1535 | 5 |\n",
       "\n"
      ],
      "text/plain": [
       "  dataset  observations variables\n",
       "1 Players   196         7        \n",
       "2 Sessions 1535         5        "
      ]
     },
     "metadata": {},
     "output_type": "display_data"
    }
   ],
   "source": [
    "# Number of observations and variables  \n",
    "dataset_summary <- data.frame(\n",
    "  dataset = c(\"Players\", \"Sessions\"),\n",
    "  observations = c(nrow(players), nrow(sessions)),\n",
    "  variables = c(ncol(players), ncol(sessions)))\n",
    "\n",
    "dataset_summary"
   ]
  },
  {
   "cell_type": "code",
   "execution_count": 15,
   "id": "5b8932e1-1703-4706-a749-83d33c947d00",
   "metadata": {},
   "outputs": [
    {
     "data": {
      "text/html": [
       "<table class=\"dataframe\">\n",
       "<caption>A data.frame: 1 × 8</caption>\n",
       "<thead>\n",
       "\t<tr><th scope=col>Age_min</th><th scope=col>Age_median</th><th scope=col>Age_max</th><th scope=col>Age_sd</th><th scope=col>played_hours_min</th><th scope=col>played_hours_median</th><th scope=col>played_hours_max</th><th scope=col>played_hours_sd</th></tr>\n",
       "\t<tr><th scope=col>&lt;int&gt;</th><th scope=col>&lt;dbl&gt;</th><th scope=col>&lt;int&gt;</th><th scope=col>&lt;dbl&gt;</th><th scope=col>&lt;dbl&gt;</th><th scope=col>&lt;dbl&gt;</th><th scope=col>&lt;dbl&gt;</th><th scope=col>&lt;dbl&gt;</th></tr>\n",
       "</thead>\n",
       "<tbody>\n",
       "\t<tr><td>8</td><td>19</td><td>50</td><td>6.174667</td><td>0</td><td>0.1</td><td>223.1</td><td>28.35734</td></tr>\n",
       "</tbody>\n",
       "</table>\n"
      ],
      "text/latex": [
       "A data.frame: 1 × 8\n",
       "\\begin{tabular}{llllllll}\n",
       " Age\\_min & Age\\_median & Age\\_max & Age\\_sd & played\\_hours\\_min & played\\_hours\\_median & played\\_hours\\_max & played\\_hours\\_sd\\\\\n",
       " <int> & <dbl> & <int> & <dbl> & <dbl> & <dbl> & <dbl> & <dbl>\\\\\n",
       "\\hline\n",
       "\t 8 & 19 & 50 & 6.174667 & 0 & 0.1 & 223.1 & 28.35734\\\\\n",
       "\\end{tabular}\n"
      ],
      "text/markdown": [
       "\n",
       "A data.frame: 1 × 8\n",
       "\n",
       "| Age_min &lt;int&gt; | Age_median &lt;dbl&gt; | Age_max &lt;int&gt; | Age_sd &lt;dbl&gt; | played_hours_min &lt;dbl&gt; | played_hours_median &lt;dbl&gt; | played_hours_max &lt;dbl&gt; | played_hours_sd &lt;dbl&gt; |\n",
       "|---|---|---|---|---|---|---|---|\n",
       "| 8 | 19 | 50 | 6.174667 | 0 | 0.1 | 223.1 | 28.35734 |\n",
       "\n"
      ],
      "text/plain": [
       "  Age_min Age_median Age_max Age_sd   played_hours_min played_hours_median\n",
       "1 8       19         50      6.174667 0                0.1                \n",
       "  played_hours_max played_hours_sd\n",
       "1 223.1            28.35734       "
      ]
     },
     "metadata": {},
     "output_type": "display_data"
    },
    {
     "data": {
      "text/html": [
       "<table class=\"dataframe\">\n",
       "<caption>A data.frame: 1 × 8</caption>\n",
       "<thead>\n",
       "\t<tr><th scope=col>original_start_time_min</th><th scope=col>original_start_time_median</th><th scope=col>original_start_time_max</th><th scope=col>original_start_time_sd</th><th scope=col>original_end_time_min</th><th scope=col>original_end_time_median</th><th scope=col>original_end_time_max</th><th scope=col>original_end_time_sd</th></tr>\n",
       "\t<tr><th scope=col>&lt;dbl&gt;</th><th scope=col>&lt;dbl&gt;</th><th scope=col>&lt;dbl&gt;</th><th scope=col>&lt;dbl&gt;</th><th scope=col>&lt;dbl&gt;</th><th scope=col>&lt;dbl&gt;</th><th scope=col>&lt;dbl&gt;</th><th scope=col>&lt;dbl&gt;</th></tr>\n",
       "</thead>\n",
       "<tbody>\n",
       "\t<tr><td>1.7124e+12</td><td>1.7192e+12</td><td>1.72733e+12</td><td>3557491589</td><td>1.7124e+12</td><td>1.71918e+12</td><td>1.72734e+12</td><td>3552813134</td></tr>\n",
       "</tbody>\n",
       "</table>\n"
      ],
      "text/latex": [
       "A data.frame: 1 × 8\n",
       "\\begin{tabular}{llllllll}\n",
       " original\\_start\\_time\\_min & original\\_start\\_time\\_median & original\\_start\\_time\\_max & original\\_start\\_time\\_sd & original\\_end\\_time\\_min & original\\_end\\_time\\_median & original\\_end\\_time\\_max & original\\_end\\_time\\_sd\\\\\n",
       " <dbl> & <dbl> & <dbl> & <dbl> & <dbl> & <dbl> & <dbl> & <dbl>\\\\\n",
       "\\hline\n",
       "\t 1.7124e+12 & 1.7192e+12 & 1.72733e+12 & 3557491589 & 1.7124e+12 & 1.71918e+12 & 1.72734e+12 & 3552813134\\\\\n",
       "\\end{tabular}\n"
      ],
      "text/markdown": [
       "\n",
       "A data.frame: 1 × 8\n",
       "\n",
       "| original_start_time_min &lt;dbl&gt; | original_start_time_median &lt;dbl&gt; | original_start_time_max &lt;dbl&gt; | original_start_time_sd &lt;dbl&gt; | original_end_time_min &lt;dbl&gt; | original_end_time_median &lt;dbl&gt; | original_end_time_max &lt;dbl&gt; | original_end_time_sd &lt;dbl&gt; |\n",
       "|---|---|---|---|---|---|---|---|\n",
       "| 1.7124e+12 | 1.7192e+12 | 1.72733e+12 | 3557491589 | 1.7124e+12 | 1.71918e+12 | 1.72734e+12 | 3552813134 |\n",
       "\n"
      ],
      "text/plain": [
       "  original_start_time_min original_start_time_median original_start_time_max\n",
       "1 1.7124e+12              1.7192e+12                 1.72733e+12            \n",
       "  original_start_time_sd original_end_time_min original_end_time_median\n",
       "1 3557491589             1.7124e+12            1.71918e+12             \n",
       "  original_end_time_max original_end_time_sd\n",
       "1 1.72734e+12           3552813134          "
      ]
     },
     "metadata": {},
     "output_type": "display_data"
    }
   ],
   "source": [
    "# Players summary\n",
    "players_numeric_cols <- players |>\n",
    "  select(Age, played_hours)\n",
    "\n",
    "players_summary <- players_numeric_cols |>\n",
    "  summarise(\n",
    "    across(everything(), list(\n",
    "      min = \\(x) min(x, na.rm = TRUE),\n",
    "      median = \\(x) median(x, na.rm = TRUE),\n",
    "      max = \\(x) max(x, na.rm = TRUE),\n",
    "      sd = \\(x) sd(x, na.rm = TRUE)\n",
    "    ))\n",
    "  )\n",
    "\n",
    "# Sessions summary\n",
    "sessions_numeric_cols <- sessions |>\n",
    "  select(original_start_time, original_end_time)\n",
    "\n",
    "sessions_summary <- sessions_numeric_cols |>\n",
    "  summarise(\n",
    "    across(everything(), list(\n",
    "      min = \\(x) min(x, na.rm = TRUE),\n",
    "      median = \\(x) median(x, na.rm = TRUE),\n",
    "      max = \\(x) max(x, na.rm = TRUE),\n",
    "      sd = \\(x) sd(x, na.rm = TRUE)\n",
    "    ))\n",
    "  )\n",
    "\n",
    "players_summary\n",
    "sessions_summary"
   ]
  },
  {
   "cell_type": "markdown",
   "id": "3d6248a0-fe16-4043-b63f-2e25463404f6",
   "metadata": {},
   "source": [
    "### Data Issues and Considerations\n",
    "\n",
    "Before modeling, several data quality issues were considered:\n",
    "- **Missing values**: Both datasets contained a small number of NA values (2 each), which were removed.\n",
    "- **Outliers**: Some players had extremely long or short playtimes or session lengths.\n",
    "- **Encoding**: Categorical variables (e.g., experience, gender) were not used in this model but could be considered in future work.\n",
    "- **Duplicates**: No duplicate rows were found.\n",
    "- **Session timestamps**: Required conversion to extract session durations in minutes.\n",
    "\n",
    "By combining both datasets using the `hashedEmail` identifier, we calculated two key behavioral features for each player:\n",
    "- **Average session length**: Mean time spent per session\n",
    "- **Total session count**: Number of distinct sessions played\n",
    "\n",
    "These variables form the basis of our predictive analysis."
   ]
  },
  {
   "cell_type": "code",
   "execution_count": 19,
   "id": "1a542dbb-e57d-4a3a-9670-93ed8c46c609",
   "metadata": {},
   "outputs": [
    {
     "data": {
      "text/html": [
       "<table class=\"dataframe\">\n",
       "<caption>A data.frame: 2 × 2</caption>\n",
       "<thead>\n",
       "\t<tr><th scope=col>dataset</th><th scope=col>total_missing_values</th></tr>\n",
       "\t<tr><th scope=col>&lt;chr&gt;</th><th scope=col>&lt;int&gt;</th></tr>\n",
       "</thead>\n",
       "<tbody>\n",
       "\t<tr><td>Players </td><td>2</td></tr>\n",
       "\t<tr><td>Sessions</td><td>2</td></tr>\n",
       "</tbody>\n",
       "</table>\n"
      ],
      "text/latex": [
       "A data.frame: 2 × 2\n",
       "\\begin{tabular}{ll}\n",
       " dataset & total\\_missing\\_values\\\\\n",
       " <chr> & <int>\\\\\n",
       "\\hline\n",
       "\t Players  & 2\\\\\n",
       "\t Sessions & 2\\\\\n",
       "\\end{tabular}\n"
      ],
      "text/markdown": [
       "\n",
       "A data.frame: 2 × 2\n",
       "\n",
       "| dataset &lt;chr&gt; | total_missing_values &lt;int&gt; |\n",
       "|---|---|\n",
       "| Players  | 2 |\n",
       "| Sessions | 2 |\n",
       "\n"
      ],
      "text/plain": [
       "  dataset  total_missing_values\n",
       "1 Players  2                   \n",
       "2 Sessions 2                   "
      ]
     },
     "metadata": {},
     "output_type": "display_data"
    },
    {
     "data": {
      "text/html": [
       "<table class=\"dataframe\">\n",
       "<caption>A data.frame: 2 × 2</caption>\n",
       "<thead>\n",
       "\t<tr><th scope=col>dataset</th><th scope=col>total_duplicates</th></tr>\n",
       "\t<tr><th scope=col>&lt;chr&gt;</th><th scope=col>&lt;int&gt;</th></tr>\n",
       "</thead>\n",
       "<tbody>\n",
       "\t<tr><td>Players </td><td>0</td></tr>\n",
       "\t<tr><td>Sessions</td><td>0</td></tr>\n",
       "</tbody>\n",
       "</table>\n"
      ],
      "text/latex": [
       "A data.frame: 2 × 2\n",
       "\\begin{tabular}{ll}\n",
       " dataset & total\\_duplicates\\\\\n",
       " <chr> & <int>\\\\\n",
       "\\hline\n",
       "\t Players  & 0\\\\\n",
       "\t Sessions & 0\\\\\n",
       "\\end{tabular}\n"
      ],
      "text/markdown": [
       "\n",
       "A data.frame: 2 × 2\n",
       "\n",
       "| dataset &lt;chr&gt; | total_duplicates &lt;int&gt; |\n",
       "|---|---|\n",
       "| Players  | 0 |\n",
       "| Sessions | 0 |\n",
       "\n"
      ],
      "text/plain": [
       "  dataset  total_duplicates\n",
       "1 Players  0               \n",
       "2 Sessions 0               "
      ]
     },
     "metadata": {},
     "output_type": "display_data"
    }
   ],
   "source": [
    "# Checking for missing values\n",
    "missing_values <- data.frame(\n",
    "  dataset = c(\"Players\", \"Sessions\"),\n",
    "  total_missing_values = c(sum(is.na(players)), sum(is.na(sessions))))\n",
    "\n",
    "# Checking for duplicate rows\n",
    "duplicate_rows <- data.frame(\n",
    "  dataset = c(\"Players\", \"Sessions\"),\n",
    "  total_duplicates = c(sum(duplicated(players)), sum(duplicated(sessions))))\n",
    "\n",
    "missing_values\n",
    "duplicate_rows"
   ]
  },
  {
   "cell_type": "code",
   "execution_count": 20,
   "id": "e61151bc-9cd3-408a-a580-5b9f6855c4bc",
   "metadata": {},
   "outputs": [],
   "source": [
    "# Drop missing values\n",
    "players_clean <- players |> drop_na()\n",
    "sessions_clean <- sessions |> drop_na()"
   ]
  },
  {
   "cell_type": "code",
   "execution_count": 26,
   "id": "70e8e2b4-8f10-430a-8491-5549df602402",
   "metadata": {},
   "outputs": [
    {
     "data": {
      "text/html": [
       "<table class=\"dataframe\">\n",
       "<caption>A tibble: 6 × 3</caption>\n",
       "<thead>\n",
       "\t<tr><th scope=col>hashedEmail</th><th scope=col>avg_session_length</th><th scope=col>num_sessions</th></tr>\n",
       "\t<tr><th scope=col>&lt;chr&gt;</th><th scope=col>&lt;dbl&gt;</th><th scope=col>&lt;int&gt;</th></tr>\n",
       "</thead>\n",
       "<tbody>\n",
       "\t<tr><td>0088b5e134c3f0498a18c7ea6b8d77b4b0ff1636fc93355ccc95b45423367832</td><td>53.00000</td><td> 2</td></tr>\n",
       "\t<tr><td>060aca80f8cfbf1c91553a72f4d5ec8034764b05ab59fe8e1cf0eee9a7b67967</td><td>30.00000</td><td> 1</td></tr>\n",
       "\t<tr><td>0ce7bfa910d47fc91f21a7b3acd8f33bde6db57912ce0290fa0437ce0b97f387</td><td>11.00000</td><td> 1</td></tr>\n",
       "\t<tr><td>0d4d71be33e2bc7266ee4983002bd930f69d304288a8663529c875f40f1750f3</td><td>32.15385</td><td>13</td></tr>\n",
       "\t<tr><td>0d70dd9cac34d646c810b1846fe6a85b9e288a76f5dcab9c1ff1a0e7ca200b3a</td><td>35.00000</td><td> 2</td></tr>\n",
       "\t<tr><td>11006065e9412650e99eea4a4aaaf0399bc338006f85e80cc82d18b49f0e2aa4</td><td>10.00000</td><td> 1</td></tr>\n",
       "</tbody>\n",
       "</table>\n"
      ],
      "text/latex": [
       "A tibble: 6 × 3\n",
       "\\begin{tabular}{lll}\n",
       " hashedEmail & avg\\_session\\_length & num\\_sessions\\\\\n",
       " <chr> & <dbl> & <int>\\\\\n",
       "\\hline\n",
       "\t 0088b5e134c3f0498a18c7ea6b8d77b4b0ff1636fc93355ccc95b45423367832 & 53.00000 &  2\\\\\n",
       "\t 060aca80f8cfbf1c91553a72f4d5ec8034764b05ab59fe8e1cf0eee9a7b67967 & 30.00000 &  1\\\\\n",
       "\t 0ce7bfa910d47fc91f21a7b3acd8f33bde6db57912ce0290fa0437ce0b97f387 & 11.00000 &  1\\\\\n",
       "\t 0d4d71be33e2bc7266ee4983002bd930f69d304288a8663529c875f40f1750f3 & 32.15385 & 13\\\\\n",
       "\t 0d70dd9cac34d646c810b1846fe6a85b9e288a76f5dcab9c1ff1a0e7ca200b3a & 35.00000 &  2\\\\\n",
       "\t 11006065e9412650e99eea4a4aaaf0399bc338006f85e80cc82d18b49f0e2aa4 & 10.00000 &  1\\\\\n",
       "\\end{tabular}\n"
      ],
      "text/markdown": [
       "\n",
       "A tibble: 6 × 3\n",
       "\n",
       "| hashedEmail &lt;chr&gt; | avg_session_length &lt;dbl&gt; | num_sessions &lt;int&gt; |\n",
       "|---|---|---|\n",
       "| 0088b5e134c3f0498a18c7ea6b8d77b4b0ff1636fc93355ccc95b45423367832 | 53.00000 |  2 |\n",
       "| 060aca80f8cfbf1c91553a72f4d5ec8034764b05ab59fe8e1cf0eee9a7b67967 | 30.00000 |  1 |\n",
       "| 0ce7bfa910d47fc91f21a7b3acd8f33bde6db57912ce0290fa0437ce0b97f387 | 11.00000 |  1 |\n",
       "| 0d4d71be33e2bc7266ee4983002bd930f69d304288a8663529c875f40f1750f3 | 32.15385 | 13 |\n",
       "| 0d70dd9cac34d646c810b1846fe6a85b9e288a76f5dcab9c1ff1a0e7ca200b3a | 35.00000 |  2 |\n",
       "| 11006065e9412650e99eea4a4aaaf0399bc338006f85e80cc82d18b49f0e2aa4 | 10.00000 |  1 |\n",
       "\n"
      ],
      "text/plain": [
       "  hashedEmail                                                     \n",
       "1 0088b5e134c3f0498a18c7ea6b8d77b4b0ff1636fc93355ccc95b45423367832\n",
       "2 060aca80f8cfbf1c91553a72f4d5ec8034764b05ab59fe8e1cf0eee9a7b67967\n",
       "3 0ce7bfa910d47fc91f21a7b3acd8f33bde6db57912ce0290fa0437ce0b97f387\n",
       "4 0d4d71be33e2bc7266ee4983002bd930f69d304288a8663529c875f40f1750f3\n",
       "5 0d70dd9cac34d646c810b1846fe6a85b9e288a76f5dcab9c1ff1a0e7ca200b3a\n",
       "6 11006065e9412650e99eea4a4aaaf0399bc338006f85e80cc82d18b49f0e2aa4\n",
       "  avg_session_length num_sessions\n",
       "1 53.00000            2          \n",
       "2 30.00000            1          \n",
       "3 11.00000            1          \n",
       "4 32.15385           13          \n",
       "5 35.00000            2          \n",
       "6 10.00000            1          "
      ]
     },
     "metadata": {},
     "output_type": "display_data"
    }
   ],
   "source": [
    "# Create session duration variable and aggregate\n",
    "sessions_clean$duration <- as.numeric(as.POSIXct(sessions_clean$end_time, format=\"%d/%m/%Y %H:%M\") -\n",
    "                                      as.POSIXct(sessions_clean$start_time, format=\"%d/%m/%Y %H:%M\"))\n",
    "\n",
    "session_summary <- sessions_clean |> \n",
    "  group_by(hashedEmail) |>\n",
    "  summarise(avg_session_length = mean(duration, na.rm = TRUE), num_sessions = n())\n",
    "\n",
    "head(session_summary)"
   ]
  },
  {
   "cell_type": "code",
   "execution_count": 25,
   "id": "30d7e882-8a24-4d8c-a547-312b3dd6648c",
   "metadata": {},
   "outputs": [
    {
     "data": {
      "text/html": [
       "<table class=\"dataframe\">\n",
       "<caption>A data.frame: 6 × 9</caption>\n",
       "<thead>\n",
       "\t<tr><th></th><th scope=col>experience</th><th scope=col>subscribe</th><th scope=col>hashedEmail</th><th scope=col>played_hours</th><th scope=col>name</th><th scope=col>gender</th><th scope=col>Age</th><th scope=col>avg_session_length</th><th scope=col>num_sessions</th></tr>\n",
       "\t<tr><th></th><th scope=col>&lt;chr&gt;</th><th scope=col>&lt;lgl&gt;</th><th scope=col>&lt;chr&gt;</th><th scope=col>&lt;dbl&gt;</th><th scope=col>&lt;chr&gt;</th><th scope=col>&lt;chr&gt;</th><th scope=col>&lt;int&gt;</th><th scope=col>&lt;dbl&gt;</th><th scope=col>&lt;int&gt;</th></tr>\n",
       "</thead>\n",
       "<tbody>\n",
       "\t<tr><th scope=row>1</th><td>Pro    </td><td> TRUE</td><td>f6daba428a5e19a3d47574858c13550499be23603422e6a0ee9728f8b53e192d</td><td>30.3</td><td>Morgan   </td><td>Male  </td><td> 9</td><td>74.77778</td><td>27</td></tr>\n",
       "\t<tr><th scope=row>2</th><td>Veteran</td><td> TRUE</td><td>f3c813577c458ba0dfef80996f8f32c93b6e8af1fa939732842f2312358a88e9</td><td> 3.8</td><td>Christian</td><td>Male  </td><td>17</td><td>85.00000</td><td> 3</td></tr>\n",
       "\t<tr><th scope=row>3</th><td>Veteran</td><td>FALSE</td><td>b674dd7ee0d24096d1c019615ce4d12b20fcbff12d79d3c5a9d2118eb7ccbb28</td><td> 0.0</td><td>Blake    </td><td>Male  </td><td>17</td><td> 5.00000</td><td> 1</td></tr>\n",
       "\t<tr><th scope=row>4</th><td>Amateur</td><td> TRUE</td><td>23fe711e0e3b77f1da7aa221ab1192afe21648d47d2b4fa7a5a659ff443a0eb5</td><td> 0.7</td><td>Flora    </td><td>Female</td><td>21</td><td>50.00000</td><td> 1</td></tr>\n",
       "\t<tr><th scope=row>5</th><td>Regular</td><td> TRUE</td><td>7dc01f10bf20671ecfccdac23812b1b415acd42c2147cb0af4d48fcce2420f3e</td><td> 0.1</td><td>Kylie    </td><td>Male  </td><td>21</td><td> 9.00000</td><td> 1</td></tr>\n",
       "\t<tr><th scope=row>6</th><td>Amateur</td><td>FALSE</td><td>1d2371d8a35c8831034b25bda8764539ab7db0f63938696917c447128a2540dd</td><td> 0.0</td><td>Emerson  </td><td>Male  </td><td>21</td><td> 5.00000</td><td> 1</td></tr>\n",
       "</tbody>\n",
       "</table>\n"
      ],
      "text/latex": [
       "A data.frame: 6 × 9\n",
       "\\begin{tabular}{r|lllllllll}\n",
       "  & experience & subscribe & hashedEmail & played\\_hours & name & gender & Age & avg\\_session\\_length & num\\_sessions\\\\\n",
       "  & <chr> & <lgl> & <chr> & <dbl> & <chr> & <chr> & <int> & <dbl> & <int>\\\\\n",
       "\\hline\n",
       "\t1 & Pro     &  TRUE & f6daba428a5e19a3d47574858c13550499be23603422e6a0ee9728f8b53e192d & 30.3 & Morgan    & Male   &  9 & 74.77778 & 27\\\\\n",
       "\t2 & Veteran &  TRUE & f3c813577c458ba0dfef80996f8f32c93b6e8af1fa939732842f2312358a88e9 &  3.8 & Christian & Male   & 17 & 85.00000 &  3\\\\\n",
       "\t3 & Veteran & FALSE & b674dd7ee0d24096d1c019615ce4d12b20fcbff12d79d3c5a9d2118eb7ccbb28 &  0.0 & Blake     & Male   & 17 &  5.00000 &  1\\\\\n",
       "\t4 & Amateur &  TRUE & 23fe711e0e3b77f1da7aa221ab1192afe21648d47d2b4fa7a5a659ff443a0eb5 &  0.7 & Flora     & Female & 21 & 50.00000 &  1\\\\\n",
       "\t5 & Regular &  TRUE & 7dc01f10bf20671ecfccdac23812b1b415acd42c2147cb0af4d48fcce2420f3e &  0.1 & Kylie     & Male   & 21 &  9.00000 &  1\\\\\n",
       "\t6 & Amateur & FALSE & 1d2371d8a35c8831034b25bda8764539ab7db0f63938696917c447128a2540dd &  0.0 & Emerson   & Male   & 21 &  5.00000 &  1\\\\\n",
       "\\end{tabular}\n"
      ],
      "text/markdown": [
       "\n",
       "A data.frame: 6 × 9\n",
       "\n",
       "| <!--/--> | experience &lt;chr&gt; | subscribe &lt;lgl&gt; | hashedEmail &lt;chr&gt; | played_hours &lt;dbl&gt; | name &lt;chr&gt; | gender &lt;chr&gt; | Age &lt;int&gt; | avg_session_length &lt;dbl&gt; | num_sessions &lt;int&gt; |\n",
       "|---|---|---|---|---|---|---|---|---|---|\n",
       "| 1 | Pro     |  TRUE | f6daba428a5e19a3d47574858c13550499be23603422e6a0ee9728f8b53e192d | 30.3 | Morgan    | Male   |  9 | 74.77778 | 27 |\n",
       "| 2 | Veteran |  TRUE | f3c813577c458ba0dfef80996f8f32c93b6e8af1fa939732842f2312358a88e9 |  3.8 | Christian | Male   | 17 | 85.00000 |  3 |\n",
       "| 3 | Veteran | FALSE | b674dd7ee0d24096d1c019615ce4d12b20fcbff12d79d3c5a9d2118eb7ccbb28 |  0.0 | Blake     | Male   | 17 |  5.00000 |  1 |\n",
       "| 4 | Amateur |  TRUE | 23fe711e0e3b77f1da7aa221ab1192afe21648d47d2b4fa7a5a659ff443a0eb5 |  0.7 | Flora     | Female | 21 | 50.00000 |  1 |\n",
       "| 5 | Regular |  TRUE | 7dc01f10bf20671ecfccdac23812b1b415acd42c2147cb0af4d48fcce2420f3e |  0.1 | Kylie     | Male   | 21 |  9.00000 |  1 |\n",
       "| 6 | Amateur | FALSE | 1d2371d8a35c8831034b25bda8764539ab7db0f63938696917c447128a2540dd |  0.0 | Emerson   | Male   | 21 |  5.00000 |  1 |\n",
       "\n"
      ],
      "text/plain": [
       "  experience subscribe\n",
       "1 Pro         TRUE    \n",
       "2 Veteran     TRUE    \n",
       "3 Veteran    FALSE    \n",
       "4 Amateur     TRUE    \n",
       "5 Regular     TRUE    \n",
       "6 Amateur    FALSE    \n",
       "  hashedEmail                                                      played_hours\n",
       "1 f6daba428a5e19a3d47574858c13550499be23603422e6a0ee9728f8b53e192d 30.3        \n",
       "2 f3c813577c458ba0dfef80996f8f32c93b6e8af1fa939732842f2312358a88e9  3.8        \n",
       "3 b674dd7ee0d24096d1c019615ce4d12b20fcbff12d79d3c5a9d2118eb7ccbb28  0.0        \n",
       "4 23fe711e0e3b77f1da7aa221ab1192afe21648d47d2b4fa7a5a659ff443a0eb5  0.7        \n",
       "5 7dc01f10bf20671ecfccdac23812b1b415acd42c2147cb0af4d48fcce2420f3e  0.1        \n",
       "6 1d2371d8a35c8831034b25bda8764539ab7db0f63938696917c447128a2540dd  0.0        \n",
       "  name      gender Age avg_session_length num_sessions\n",
       "1 Morgan    Male    9  74.77778           27          \n",
       "2 Christian Male   17  85.00000            3          \n",
       "3 Blake     Male   17   5.00000            1          \n",
       "4 Flora     Female 21  50.00000            1          \n",
       "5 Kylie     Male   21   9.00000            1          \n",
       "6 Emerson   Male   21   5.00000            1          "
      ]
     },
     "metadata": {},
     "output_type": "display_data"
    }
   ],
   "source": [
    "# Merge session data with player data\n",
    "merged_data <- inner_join(players_clean, session_summary, by = \"hashedEmail\")\n",
    "\n",
    "# Remove any remaining missing values\n",
    "merged_data <- drop_na(merged_data)\n",
    "\n",
    "head(merged_data)"
   ]
  },
  {
   "cell_type": "code",
   "execution_count": null,
   "id": "2e7e3858-cc88-4e99-ba6f-571a9db812cf",
   "metadata": {},
   "outputs": [],
   "source": []
  }
 ],
 "metadata": {
  "kernelspec": {
   "display_name": "R",
   "language": "R",
   "name": "ir"
  },
  "language_info": {
   "codemirror_mode": "r",
   "file_extension": ".r",
   "mimetype": "text/x-r-source",
   "name": "R",
   "pygments_lexer": "r",
   "version": "4.3.3"
  }
 },
 "nbformat": 4,
 "nbformat_minor": 5
}
