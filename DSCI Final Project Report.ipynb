{
 "cells": [
  {
   "cell_type": "markdown",
   "id": "493b56ed-4855-4370-a496-4420ade2d679",
   "metadata": {},
   "source": [
    "# Project Title"
   ]
  },
  {
   "cell_type": "markdown",
   "id": "b4d51a6f-4922-4e1f-93f8-6610c8ebecea",
   "metadata": {},
   "source": [
    "## *DSCI 100 - Final Project Report*"
   ]
  },
  {
   "cell_type": "markdown",
   "id": "5c14a973-d847-4c62-b30c-ce36ad459bcc",
   "metadata": {},
   "source": [
    "**Author:** Delia Zhang, Ryan Xie, Rachel McDonald, Oj Singh Dhillon   \n",
    "**Date:** Fri, Apr 4th "
   ]
  },
  {
   "cell_type": "code",
   "execution_count": null,
   "id": "4a7d8ad9-00c7-4463-9695-d914ce19f603",
   "metadata": {},
   "outputs": [],
   "source": []
  }
 ],
 "metadata": {
  "kernelspec": {
   "display_name": "R",
   "language": "R",
   "name": "ir"
  },
  "language_info": {
   "codemirror_mode": "r",
   "file_extension": ".r",
   "mimetype": "text/x-r-source",
   "name": "R",
   "pygments_lexer": "r",
   "version": "4.3.3"
  }
 },
 "nbformat": 4,
 "nbformat_minor": 5
}
