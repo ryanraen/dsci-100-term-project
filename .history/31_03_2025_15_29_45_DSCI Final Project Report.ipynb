{
 "cells": [
  {
   "cell_type": "markdown",
   "id": "d3a41817-d220-45fc-9bb6-79e3bca53292",
   "metadata": {},
   "source": [
    "# Project Title"
   ]
  },
  {
   "cell_type": "markdown",
   "id": "331e2982-1ca5-461f-8c2d-f344a077feb5",
   "metadata": {},
   "source": [
    "## *DSCI 100 - Final Project Report*"
   ]
  },
  {
   "cell_type": "markdown",
   "id": "bcea142e-083c-483b-92b5-8a5d24e6e4cd",
   "metadata": {},
   "source": [
    "**Author:** Delia Zhang, Ryan Xie, Rachel McDonald, Oj Singh Dhillon   \n",
    "**Date:** Fri, Apr 4th "
   ]
  },
  {
   "cell_type": "code",
   "execution_count": null,
   "id": "ec74f0f2-1ac0-4862-8cae-64e6d5f9b465",
   "metadata": {},
   "outputs": [],
   "source": []
  }
 ],
 "metadata": {
  "kernelspec": {
   "display_name": "R",
   "language": "R",
   "name": "ir"
  },
  "language_info": {
   "codemirror_mode": "r",
   "file_extension": ".r",
   "mimetype": "text/x-r-source",
   "name": "R",
   "pygments_lexer": "r",
   "version": "4.3.3"
  }
 },
 "nbformat": 4,
 "nbformat_minor": 5
}
