{
 "cells": [
  {
   "cell_type": "markdown",
   "id": "91ee7e6f",
   "metadata": {},
   "source": [
    "# Project Title"
   ]
  },
  {
   "cell_type": "markdown",
   "id": "9e93358d",
   "metadata": {},
   "source": [
    "## *DSCI 100 - Final Project Report*"
   ]
  },
  {
   "cell_type": "markdown",
   "id": "f3e46a83",
   "metadata": {},
   "source": [
    "**Author:** Delia Zhang, Ryan Xie, Rachel McDonald, Oj Singh Dhillon   \n",
    "**Date:** Fri, Apr 4th "
   ]
  },
  {
   "cell_type": "markdown",
   "id": "5faf5567",
   "metadata": {},
   "source": []
  }
 ],
 "metadata": {
  "kernelspec": {
   "display_name": "R",
   "language": "R",
   "name": "ir"
  },
  "language_info": {
   "codemirror_mode": "r",
   "file_extension": ".r",
   "mimetype": "text/x-r-source",
   "name": "R",
   "pygments_lexer": "r",
   "version": "4.3.3"
  }
 },
 "nbformat": 4,
 "nbformat_minor": 5
}
